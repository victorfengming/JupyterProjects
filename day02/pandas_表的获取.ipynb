{
 "cells": [
  {
   "cell_type": "markdown",
   "source": [
    "### dataframe的获取值"
   ],
   "metadata": {
    "collapsed": false
   }
  },
  {
   "cell_type": "code",
   "execution_count": 19,
   "outputs": [],
   "source": [
    "import pandas as pd"
   ],
   "metadata": {
    "collapsed": false,
    "pycharm": {
     "name": "#%% \n",
     "is_executing": false
    }
   }
  },
  {
   "cell_type": "code",
   "execution_count": 20,
   "outputs": [],
   "source": [
    "a_values = [\n",
    "    ['小明','male',18,170,60,'北京海淀',61],\n",
    "    ['小华','female',28,160,50,'上海静安',74],\n",
    "    ['小红','female',22,175,64,'广州天河',59],\n",
    "    ['小靑','male',31,182,80,'深圳南山',82],\n",
    "    ['小兰','female',25,165,55,'杭州西湖',98],\n",
    "]\n",
    "a = pd.DataFrame(\n",
    "    a_values,\n",
    "    index=[1,2,3,4,5],\n",
    "    columns=['name','sex','age','heigh','weight','address','grade']\n",
    ")"
   ],
   "metadata": {
    "collapsed": false,
    "pycharm": {
     "name": "#%%\n",
     "is_executing": false
    }
   }
  },
  {
   "cell_type": "code",
   "execution_count": 21,
   "outputs": [
    {
     "data": {
      "text/plain": "  name     sex  age  heigh  weight address  grade\n1   小明    male   18    170      60    北京海淀     61\n2   小华  female   28    160      50    上海静安     74\n3   小红  female   22    175      64    广州天河     59\n4   小靑    male   31    182      80    深圳南山     82\n5   小兰  female   25    165      55    杭州西湖     98",
      "text/html": "<div>\n<style scoped>\n    .dataframe tbody tr th:only-of-type {\n        vertical-align: middle;\n    }\n\n    .dataframe tbody tr th {\n        vertical-align: top;\n    }\n\n    .dataframe thead th {\n        text-align: right;\n    }\n</style>\n<table border=\"1\" class=\"dataframe\">\n  <thead>\n    <tr style=\"text-align: right;\">\n      <th></th>\n      <th>name</th>\n      <th>sex</th>\n      <th>age</th>\n      <th>heigh</th>\n      <th>weight</th>\n      <th>address</th>\n      <th>grade</th>\n    </tr>\n  </thead>\n  <tbody>\n    <tr>\n      <th>1</th>\n      <td>小明</td>\n      <td>male</td>\n      <td>18</td>\n      <td>170</td>\n      <td>60</td>\n      <td>北京海淀</td>\n      <td>61</td>\n    </tr>\n    <tr>\n      <th>2</th>\n      <td>小华</td>\n      <td>female</td>\n      <td>28</td>\n      <td>160</td>\n      <td>50</td>\n      <td>上海静安</td>\n      <td>74</td>\n    </tr>\n    <tr>\n      <th>3</th>\n      <td>小红</td>\n      <td>female</td>\n      <td>22</td>\n      <td>175</td>\n      <td>64</td>\n      <td>广州天河</td>\n      <td>59</td>\n    </tr>\n    <tr>\n      <th>4</th>\n      <td>小靑</td>\n      <td>male</td>\n      <td>31</td>\n      <td>182</td>\n      <td>80</td>\n      <td>深圳南山</td>\n      <td>82</td>\n    </tr>\n    <tr>\n      <th>5</th>\n      <td>小兰</td>\n      <td>female</td>\n      <td>25</td>\n      <td>165</td>\n      <td>55</td>\n      <td>杭州西湖</td>\n      <td>98</td>\n    </tr>\n  </tbody>\n</table>\n</div>"
     },
     "metadata": {},
     "output_type": "execute_result",
     "execution_count": 21
    }
   ],
   "source": [
    "a"
   ],
   "metadata": {
    "collapsed": false,
    "pycharm": {
     "name": "#%%\n",
     "is_executing": false
    }
   }
  },
  {
   "cell_type": "code",
   "execution_count": 22,
   "outputs": [
    {
     "data": {
      "text/plain": "name       object\nsex        object\nage         int64\nheigh       int64\nweight      int64\naddress    object\ngrade       int64\ndtype: object"
     },
     "metadata": {},
     "output_type": "execute_result",
     "execution_count": 22
    }
   ],
   "source": [
    "a.dtypes\n"
   ],
   "metadata": {
    "collapsed": false,
    "pycharm": {
     "name": "#%%\n",
     "is_executing": false
    }
   }
  },
  {
   "cell_type": "code",
   "execution_count": 23,
   "outputs": [
    {
     "data": {
      "text/plain": "Int64Index([1, 2, 3, 4, 5], dtype='int64')"
     },
     "metadata": {},
     "output_type": "execute_result",
     "execution_count": 23
    }
   ],
   "source": [
    "a.index\n",
    "\n"
   ],
   "metadata": {
    "collapsed": false,
    "pycharm": {
     "name": "#%%\n",
     "is_executing": false
    }
   }
  },
  {
   "cell_type": "code",
   "execution_count": 24,
   "outputs": [
    {
     "data": {
      "text/plain": "Index(['name', 'sex', 'age', 'heigh', 'weight', 'address', 'grade'], dtype='object')"
     },
     "metadata": {},
     "output_type": "execute_result",
     "execution_count": 24
    }
   ],
   "source": [
    "a.columns"
   ],
   "metadata": {
    "collapsed": false,
    "pycharm": {
     "name": "#%%\n",
     "is_executing": false
    }
   }
  },
  {
   "cell_type": "code",
   "execution_count": 25,
   "outputs": [
    {
     "data": {
      "text/plain": "array([['小明', 'male', 18, 170, 60, '北京海淀', 61],\n       ['小华', 'female', 28, 160, 50, '上海静安', 74],\n       ['小红', 'female', 22, 175, 64, '广州天河', 59],\n       ['小靑', 'male', 31, 182, 80, '深圳南山', 82],\n       ['小兰', 'female', 25, 165, 55, '杭州西湖', 98]], dtype=object)"
     },
     "metadata": {},
     "output_type": "execute_result",
     "execution_count": 25
    }
   ],
   "source": [
    "a.values"
   ],
   "metadata": {
    "collapsed": false,
    "pycharm": {
     "name": "#%%\n",
     "is_executing": false
    }
   }
  },
  {
   "cell_type": "code",
   "execution_count": 26,
   "outputs": [
    {
     "data": {
      "text/plain": "<bound method DataFrame.info of   name     sex  age  heigh  weight address  grade\n1   小明    male   18    170      60    北京海淀     61\n2   小华  female   28    160      50    上海静安     74\n3   小红  female   22    175      64    广州天河     59\n4   小靑    male   31    182      80    深圳南山     82\n5   小兰  female   25    165      55    杭州西湖     98>"
     },
     "metadata": {},
     "output_type": "execute_result",
     "execution_count": 26
    }
   ],
   "source": [
    "a.info"
   ],
   "metadata": {
    "collapsed": false,
    "pycharm": {
     "name": "#%%\n",
     "is_executing": false
    }
   }
  },
  {
   "cell_type": "code",
   "execution_count": 27,
   "outputs": [
    {
     "data": {
      "text/plain": "             age       heigh     weight      grade\ncount   5.000000    5.000000   5.000000   5.000000\nmean   24.800000  170.400000  61.800000  74.800000\nstd     5.069517    8.561542  11.454257  16.053037\nmin    18.000000  160.000000  50.000000  59.000000\n25%    22.000000  165.000000  55.000000  61.000000\n50%    25.000000  170.000000  60.000000  74.000000\n75%    28.000000  175.000000  64.000000  82.000000\nmax    31.000000  182.000000  80.000000  98.000000",
      "text/html": "<div>\n<style scoped>\n    .dataframe tbody tr th:only-of-type {\n        vertical-align: middle;\n    }\n\n    .dataframe tbody tr th {\n        vertical-align: top;\n    }\n\n    .dataframe thead th {\n        text-align: right;\n    }\n</style>\n<table border=\"1\" class=\"dataframe\">\n  <thead>\n    <tr style=\"text-align: right;\">\n      <th></th>\n      <th>age</th>\n      <th>heigh</th>\n      <th>weight</th>\n      <th>grade</th>\n    </tr>\n  </thead>\n  <tbody>\n    <tr>\n      <th>count</th>\n      <td>5.000000</td>\n      <td>5.000000</td>\n      <td>5.000000</td>\n      <td>5.000000</td>\n    </tr>\n    <tr>\n      <th>mean</th>\n      <td>24.800000</td>\n      <td>170.400000</td>\n      <td>61.800000</td>\n      <td>74.800000</td>\n    </tr>\n    <tr>\n      <th>std</th>\n      <td>5.069517</td>\n      <td>8.561542</td>\n      <td>11.454257</td>\n      <td>16.053037</td>\n    </tr>\n    <tr>\n      <th>min</th>\n      <td>18.000000</td>\n      <td>160.000000</td>\n      <td>50.000000</td>\n      <td>59.000000</td>\n    </tr>\n    <tr>\n      <th>25%</th>\n      <td>22.000000</td>\n      <td>165.000000</td>\n      <td>55.000000</td>\n      <td>61.000000</td>\n    </tr>\n    <tr>\n      <th>50%</th>\n      <td>25.000000</td>\n      <td>170.000000</td>\n      <td>60.000000</td>\n      <td>74.000000</td>\n    </tr>\n    <tr>\n      <th>75%</th>\n      <td>28.000000</td>\n      <td>175.000000</td>\n      <td>64.000000</td>\n      <td>82.000000</td>\n    </tr>\n    <tr>\n      <th>max</th>\n      <td>31.000000</td>\n      <td>182.000000</td>\n      <td>80.000000</td>\n      <td>98.000000</td>\n    </tr>\n  </tbody>\n</table>\n</div>"
     },
     "metadata": {},
     "output_type": "execute_result",
     "execution_count": 27
    }
   ],
   "source": [
    "a.describe()\n"
   ],
   "metadata": {
    "collapsed": false,
    "pycharm": {
     "name": "#%%\n",
     "is_executing": false
    }
   }
  },
  {
   "cell_type": "code",
   "execution_count": 28,
   "outputs": [
    {
     "data": {
      "text/plain": "<pandas.core.indexing._LocIndexer at 0x1a9ca592ea8>"
     },
     "metadata": {},
     "output_type": "execute_result",
     "execution_count": 28
    }
   ],
   "source": [
    "a.loc()"
   ],
   "metadata": {
    "collapsed": false,
    "pycharm": {
     "name": "#%%\n",
     "is_executing": false
    }
   }
  },
  {
   "cell_type": "code",
   "execution_count": 28,
   "outputs": [],
   "source": [],
   "metadata": {
    "collapsed": false,
    "pycharm": {
     "name": "#%%\n",
     "is_executing": false
    }
   }
  },
  {
   "cell_type": "code",
   "execution_count": null,
   "outputs": [],
   "source": [
    "\n"
   ],
   "metadata": {
    "collapsed": false,
    "pycharm": {
     "name": "#%%\n"
    }
   }
  }
 ],
 "metadata": {
  "kernelspec": {
   "display_name": "Python 3",
   "language": "python",
   "name": "python3"
  },
  "language_info": {
   "codemirror_mode": {
    "name": "ipython",
    "version": 3
   },
   "file_extension": ".py",
   "mimetype": "text/x-python",
   "name": "python",
   "nbconvert_exporter": "python",
   "pygments_lexer": "ipython3",
   "version": "3.7.3"
  },
  "pycharm": {
   "stem_cell": {
    "cell_type": "raw",
    "source": [],
    "metadata": {
     "collapsed": false
    }
   }
  }
 },
 "nbformat": 4,
 "nbformat_minor": 1
}